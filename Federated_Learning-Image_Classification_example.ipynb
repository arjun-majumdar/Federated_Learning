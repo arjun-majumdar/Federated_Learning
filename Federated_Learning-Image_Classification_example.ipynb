{
 "cells": [
  {
   "cell_type": "markdown",
   "metadata": {},
   "source": [
    "# Federated Learning: Image Classification\n",
    "\n",
    "Using MNIST dataset. Refer to the tutorial [here](https://www.tensorflow.org/federated/tutorials/federated_learning_for_image_classification)\n",
    "\n",
    "In this tutorial, we use the classic MNIST training example to introduce the Federated Learning (FL) API layer of TFF, tff.learning - a set of higher-level interfaces that can be used to perform common types of federated learning tasks, such as federated training, against user-supplied models implemented in TensorFlow.\n",
    "\n",
    "[tff.learning](https://www.tensorflow.org/federated/api_docs/python/tff/learning) - Libraries for using Federated Learning algorithms."
   ]
  },
  {
   "cell_type": "code",
   "execution_count": 1,
   "metadata": {},
   "outputs": [],
   "source": [
    "import nest_asyncio\n",
    "nest_asyncio.apply()"
   ]
  },
  {
   "cell_type": "code",
   "execution_count": 2,
   "metadata": {},
   "outputs": [],
   "source": [
    "%load_ext tensorboard"
   ]
  },
  {
   "cell_type": "code",
   "execution_count": null,
   "metadata": {},
   "outputs": [],
   "source": []
  },
  {
   "cell_type": "code",
   "execution_count": 3,
   "metadata": {},
   "outputs": [],
   "source": [
    "import collections\n",
    "\n",
    "import numpy as np\n",
    "import tensorflow as tf\n",
    "import tensorflow_federated as tff\n",
    "\n",
    "import matplotlib.pyplot as plt"
   ]
  },
  {
   "cell_type": "code",
   "execution_count": 4,
   "metadata": {},
   "outputs": [
    {
     "name": "stdout",
     "output_type": "stream",
     "text": [
      "WARNING:tensorflow:From /home/arjun/anaconda3/envs/federated_learning/lib/python3.8/site-packages/tensorflow_federated/python/core/impl/compiler/tensorflow_computation_transformations.py:58: extract_sub_graph (from tensorflow.python.framework.graph_util_impl) is deprecated and will be removed in a future version.\n",
      "Instructions for updating:\n",
      "Use `tf.compat.v1.graph_util.extract_sub_graph`\n"
     ]
    },
    {
     "name": "stderr",
     "output_type": "stream",
     "text": [
      "WARNING:tensorflow:From /home/arjun/anaconda3/envs/federated_learning/lib/python3.8/site-packages/tensorflow_federated/python/core/impl/compiler/tensorflow_computation_transformations.py:58: extract_sub_graph (from tensorflow.python.framework.graph_util_impl) is deprecated and will be removed in a future version.\n",
      "Instructions for updating:\n",
      "Use `tf.compat.v1.graph_util.extract_sub_graph`\n"
     ]
    },
    {
     "data": {
      "text/plain": [
       "b'Hello, World!'"
      ]
     },
     "execution_count": 4,
     "metadata": {},
     "output_type": "execute_result"
    }
   ],
   "source": [
    "tff.federated_computation(lambda: 'Hello, World!')()"
   ]
  },
  {
   "cell_type": "code",
   "execution_count": null,
   "metadata": {},
   "outputs": [],
   "source": []
  },
  {
   "cell_type": "code",
   "execution_count": 6,
   "metadata": {},
   "outputs": [
    {
     "name": "stdout",
     "output_type": "stream",
     "text": [
      "TensorFlow version: 2.4.1\n"
     ]
    }
   ],
   "source": [
    "print(f\"TensorFlow version: {tf.__version__}\")"
   ]
  },
  {
   "cell_type": "code",
   "execution_count": null,
   "metadata": {},
   "outputs": [],
   "source": []
  },
  {
   "cell_type": "code",
   "execution_count": null,
   "metadata": {},
   "outputs": [],
   "source": []
  },
  {
   "cell_type": "markdown",
   "metadata": {},
   "source": [
    "### Preparing the input data:\n",
    "\n",
    "_Federated learning (FL) requires a federated data set, i.e., a collection of data from multiple users_. __Federated data is typically non-i.i.d. (independent and identically distributed), which poses a unique set of challenges__.\n",
    "\n",
    "In order to facilitate FL based experimentation, Google's TFF team have provided the TFF repository with some datasets, including a federated version of MNIST that contains a version of the [original NIST dataset](https://www.nist.gov/srd/nist-special-database-19) that has been re-processed using [Leaf](https://github.com/TalwalkarLab/leaf) so that the data is keyed by the original writer of the digits.\n",
    "Since each writer has a unique style, this dataset exhibits the kind of non-i.i.d. behavior expected of federated datasets."
   ]
  },
  {
   "cell_type": "code",
   "execution_count": 7,
   "metadata": {},
   "outputs": [],
   "source": [
    "# Load dataset-\n",
    "emnist_train, emnist_test = tff.simulation.datasets.emnist.load_data()"
   ]
  },
  {
   "cell_type": "code",
   "execution_count": 8,
   "metadata": {},
   "outputs": [
    {
     "data": {
      "text/plain": [
       "(tensorflow_federated.python.simulation.hdf5_client_data.HDF5ClientData,\n",
       " tensorflow_federated.python.simulation.hdf5_client_data.HDF5ClientData)"
      ]
     },
     "execution_count": 8,
     "metadata": {},
     "output_type": "execute_result"
    }
   ],
   "source": [
    "type(emnist_train), type(emnist_test)"
   ]
  },
  {
   "cell_type": "markdown",
   "metadata": {},
   "source": [
    "The data sets returned by 'load_data()' are instances of _tff.simulation.ClientData_, an interface that allows you to enumerate the set of users, to construct a 'tf.data.Dataset' that represents the data of a particular user, and to query the structure of individual elements.\n",
    "\n",
    "Here's how you can use this interface to explore the content of the data set. Keep in mind that _while this interface allows you to iterate over clients ids, this is only a feature of the simulation data_. As you will see shortly, __client identities are not used by the federated learning framework__ - their only purpose is to allow you to select subsets of the data for simulations."
   ]
  },
  {
   "cell_type": "code",
   "execution_count": 9,
   "metadata": {},
   "outputs": [
    {
     "name": "stdout",
     "output_type": "stream",
     "text": [
      "number of client IDs available for MNIST dataset = 3383\n"
     ]
    }
   ],
   "source": [
    "print(f\"number of client IDs available for MNIST dataset = {len(emnist_train.client_ids)}\")"
   ]
  },
  {
   "cell_type": "code",
   "execution_count": 10,
   "metadata": {},
   "outputs": [
    {
     "data": {
      "text/plain": [
       "OrderedDict([('label', TensorSpec(shape=(), dtype=tf.int32, name=None)),\n",
       "             ('pixels',\n",
       "              TensorSpec(shape=(28, 28), dtype=tf.float32, name=None))])"
      ]
     },
     "execution_count": 10,
     "metadata": {},
     "output_type": "execute_result"
    }
   ],
   "source": [
    "emnist_train.element_type_structure"
   ]
  },
  {
   "cell_type": "code",
   "execution_count": null,
   "metadata": {},
   "outputs": [],
   "source": []
  },
  {
   "cell_type": "code",
   "execution_count": 11,
   "metadata": {},
   "outputs": [
    {
     "data": {
      "text/plain": [
       "5"
      ]
     },
     "execution_count": 11,
     "metadata": {},
     "output_type": "execute_result"
    }
   ],
   "source": [
    "example_dataset = emnist_train.create_tf_dataset_for_client(emnist_train.client_ids[0])\n",
    "example_element = next(iter(example_dataset))\n",
    "\n",
    "example_element['label'].numpy()"
   ]
  },
  {
   "cell_type": "code",
   "execution_count": 12,
   "metadata": {},
   "outputs": [
    {
     "data": {
      "text/plain": [
       "TensorShape([28, 28])"
      ]
     },
     "execution_count": 12,
     "metadata": {},
     "output_type": "execute_result"
    }
   ],
   "source": [
    "example_element['pixels'].shape"
   ]
  },
  {
   "cell_type": "code",
   "execution_count": 13,
   "metadata": {},
   "outputs": [
    {
     "data": {
      "image/png": "[encoded data removed]",
      "text/plain": [
       "<Figure size 432x288 with 1 Axes>"
      ]
     },
     "metadata": {
      "needs_background": "light"
     },
     "output_type": "display_data"
    }
   ],
   "source": [
    "# Display the hand-written digit-\n",
    "plt.imshow(example_element['pixels'].numpy(), cmap = 'gray', aspect = 'equal')\n",
    "\n",
    "plt.title(f\"digit label = {example_element['label'].numpy()}\")\n",
    "# plt.grid(False)\n",
    "plt.show()"
   ]
  },
  {
   "cell_type": "code",
   "execution_count": null,
   "metadata": {},
   "outputs": [],
   "source": []
  },
  {
   "cell_type": "markdown",
   "metadata": {},
   "source": [
    "### Exploring heterogeneity in federated data:\n",
    "\n",
    "_Federated data is typically non-i.i.d._, __users typically have different distributions of data depending on usage patterns__. _Some clients may have fewer training examples on device, suffering from data paucity locally, while some clients will have more than enough training examples_.\n",
    "\n",
    "Let's explore this concept of data heterogeneity typical of a federated system with the EMNIST data we have with us. _It's important to note that this deep analysis of a client's data is only available to us because this is a simulation environment where all the data is available to us locally_. __In a real production federated environment you would not be able to inspect a single client's data__.\n",
    "\n",
    "First, let's get a sampling of one client's data to get a feel for the examples on one simulated device. Because the dataset we're using has been keyed by a unique writer, the data of one client represents the handwriting of one person for a sample of the digits 0 through 9, simulating the unique \"usage pattern\" of one user."
   ]
  },
  {
   "cell_type": "code",
   "execution_count": 14,
   "metadata": {},
   "outputs": [
    {
     "data": {
      "image/png": "[encoded data removed]",
      "text/plain": [
       "<Figure size 1440x288 with 40 Axes>"
      ]
     },
     "metadata": {
      "needs_background": "light"
     },
     "output_type": "display_data"
    }
   ],
   "source": [
    "# Example MNIST digits for just one client-\n",
    "figure = plt.figure(figsize = (20, 4))\n",
    "\n",
    "j = 0\n",
    "\n",
    "for example in example_dataset.take(40):\n",
    "    plt.subplot(4, 10, j + 1)\n",
    "    plt.imshow(example['pixels'].numpy(), cmap = 'gray', aspect = 'equal')\n",
    "    plt.axis('off')\n",
    "    j += 1\n"
   ]
  },
  {
   "cell_type": "code",
   "execution_count": null,
   "metadata": {},
   "outputs": [],
   "source": []
  },
  {
   "cell_type": "markdown",
   "metadata": {},
   "source": [
    "### More visualizations:\n",
    "\n",
    "Next, we _visualize the (total) number of examples on each of the client for each MNIST digit label_. __In the federated environment, the number of examples on each client can vary quite a bit, depending on user behavior__."
   ]
  },
  {
   "cell_type": "code",
   "execution_count": 15,
   "metadata": {},
   "outputs": [
    {
     "data": {
      "image/png": "[encoded data removed]",
      "text/plain": [
       "<Figure size 864x504 with 10 Axes>"
      ]
     },
     "metadata": {
      "needs_background": "light"
     },
     "output_type": "display_data"
    }
   ],
   "source": [
    "# Number of examples per client for a sample of clients (in this example, there are 10 clients)-\n",
    "f = plt.figure(figsize = (12, 7))\n",
    "f.suptitle('Label Counts for a Sample of Clients')\n",
    "\n",
    "for i in range(10):\n",
    "    client_dataset = emnist_train.create_tf_dataset_for_client(emnist_train.client_ids[i])\n",
    "    plot_data = collections.defaultdict(list)\n",
    "\n",
    "    for example in client_dataset:\n",
    "        # Append counts individually per label to make plots\n",
    "        # more colorful instead of one color per plot.\n",
    "        label = example['label'].numpy()\n",
    "        plot_data[label].append(label)\n",
    "    \n",
    "    plt.subplot(2, 5, i+1)\n",
    "    plt.title('Client {}'.format(i))\n",
    "    \n",
    "    for j in range(10):\n",
    "        plt.hist(\n",
    "            plot_data[j], density=False,\n",
    "            bins=[0, 1, 2, 3, 4, 5, 6, 7, 8, 9, 10]\n",
    "        )\n"
   ]
  },
  {
   "cell_type": "code",
   "execution_count": null,
   "metadata": {},
   "outputs": [],
   "source": []
  },
  {
   "cell_type": "markdown",
   "metadata": {},
   "source": [
    "We now _visualize the mean image per client for each MNIST label_. This code will produce _the mean of each pixel value for all of the user's examples for one label_.\n",
    "\n",
    "- We'll see that __one client's mean image for a digit will look different than another client's mean image for the same digit, due to each person's unique handwriting style__.\n",
    "\n",
    "- We can muse about __how each local training round will nudge the model in a different direction on each client, as we're learning from that user's own unique data in that local round__.\n",
    "\n",
    "- Later in the tutorial we'll see __how we can take each update to the model from all the clients and aggregate them together into our new global model, that has learned from each of our client's own unique data__."
   ]
  },
  {
   "cell_type": "code",
   "execution_count": 16,
   "metadata": {},
   "outputs": [
    {
     "data": {
      "image/png": "[encoded data removed]",
      "text/plain": [
       "<Figure size 864x360 with 10 Axes>"
      ]
     },
     "metadata": {
      "needs_background": "light"
     },
     "output_type": "display_data"
    },
    {
     "data": {
      "image/png": "[encoded data removed]",
      "text/plain": [
       "<Figure size 864x360 with 10 Axes>"
      ]
     },
     "metadata": {
      "needs_background": "light"
     },
     "output_type": "display_data"
    },
    {
     "data": {
      "image/png": "[encoded data removed]",
      "text/plain": [
       "<Figure size 864x360 with 10 Axes>"
      ]
     },
     "metadata": {
      "needs_background": "light"
     },
     "output_type": "display_data"
    },
    {
     "data": {
      "image/png": "[encoded data removed]",
      "text/plain": [
       "<Figure size 864x360 with 10 Axes>"
      ]
     },
     "metadata": {
      "needs_background": "light"
     },
     "output_type": "display_data"
    },
    {
     "data": {
      "image/png": "[encoded data removed]",
      "text/plain": [
       "<Figure size 864x360 with 10 Axes>"
      ]
     },
     "metadata": {
      "needs_background": "light"
     },
     "output_type": "display_data"
    }
   ],
   "source": [
    "# Each client has different mean images, meaning each client will be nudging the model in their own directions locally-\n",
    "for i in range(5):\n",
    "    client_dataset = emnist_train.create_tf_dataset_for_client(emnist_train.client_ids[i])\n",
    "    plot_data = collections.defaultdict(list)\n",
    "    \n",
    "    for example in client_dataset:\n",
    "        plot_data[example['label'].numpy()].append(example['pixels'].numpy())\n",
    "  \n",
    "    f = plt.figure(i, figsize=(12, 5))\n",
    "    f.suptitle(\"Client #{}'s Mean Image Per Label\".format(i))\n",
    "    \n",
    "    for j in range(10):\n",
    "        mean_img = np.mean(plot_data[j], 0)\n",
    "        plt.subplot(2, 5, j+1)\n",
    "        plt.imshow(mean_img.reshape((28, 28)))\n",
    "        plt.axis('off')\n"
   ]
  },
  {
   "cell_type": "markdown",
   "metadata": {},
   "source": [
    "User data can be noisy and unreliably labeled. For example, looking at Client number 2's data above, we can see that for label 2, it is possible that there may have been some mislabeled examples creating a noisier mean image."
   ]
  },
  {
   "cell_type": "code",
   "execution_count": null,
   "metadata": {},
   "outputs": [],
   "source": []
  },
  {
   "cell_type": "code",
   "execution_count": null,
   "metadata": {},
   "outputs": [],
   "source": []
  },
  {
   "cell_type": "code",
   "execution_count": null,
   "metadata": {},
   "outputs": [],
   "source": []
  },
  {
   "cell_type": "code",
   "execution_count": null,
   "metadata": {},
   "outputs": [],
   "source": []
  },
  {
   "cell_type": "markdown",
   "metadata": {},
   "source": [
    "### Preprocessing the input data:\n",
    "\n",
    "Since the data is already a [tf.data.Dataset](https://www.tensorflow.org/api_docs/python/tf/data/Dataset), preprocessing can be accomplished by using Dataset transformations consisting of:\n",
    "\n",
    "- We flatten the 28 x 28 images into 784-element 1-D arrays\n",
    "- Shuffle the individual examples\n",
    "- Organize them into batches\n",
    "- (and) Rename the features from pixels and label to x and y for use with Keras.\n",
    "\n",
    "We also throw in a repeat over the data set to run several epochs."
   ]
  },
  {
   "cell_type": "code",
   "execution_count": 19,
   "metadata": {},
   "outputs": [],
   "source": [
    "NUM_CLIENTS = 10\n",
    "NUM_EPOCHS = 5\n",
    "BATCH_SIZE = 20\n",
    "SHUFFLE_BUFFER = 100\n",
    "PREFETCH_BUFFER = 10\n",
    "\n",
    "def preprocess(dataset):\n",
    "\n",
    "    def batch_format_fn(element):\n",
    "        \"\"\"Flatten a batch `pixels` and return the features as an `OrderedDict`.\"\"\"\n",
    "        return collections.OrderedDict(\n",
    "            x = tf.reshape(element['pixels'], [-1, 784]),\n",
    "            y = tf.reshape(element['label'], [-1, 1])\n",
    "        )\n",
    "\n",
    "    return dataset.repeat(NUM_EPOCHS).shuffle(\n",
    "        SHUFFLE_BUFFER).batch(BATCH_SIZE).map(\n",
    "        batch_format_fn).prefetch(PREFETCH_BUFFER)\n"
   ]
  },
  {
   "cell_type": "code",
   "execution_count": null,
   "metadata": {},
   "outputs": [],
   "source": []
  },
  {
   "cell_type": "code",
   "execution_count": 20,
   "metadata": {},
   "outputs": [],
   "source": [
    "# Sanity check-\n",
    "preprocessed_example_dataset = preprocess(example_dataset)\n",
    "\n",
    "sample_batch = tf.nest.map_structure(lambda x: x.numpy(),\n",
    "                                     next(iter(preprocessed_example_dataset)))"
   ]
  },
  {
   "cell_type": "code",
   "execution_count": 24,
   "metadata": {},
   "outputs": [
    {
     "data": {
      "text/plain": [
       "(collections.OrderedDict, odict_keys(['x', 'y']))"
      ]
     },
     "execution_count": 24,
     "metadata": {},
     "output_type": "execute_result"
    }
   ],
   "source": [
    "type(sample_batch), sample_batch.keys()"
   ]
  },
  {
   "cell_type": "code",
   "execution_count": 25,
   "metadata": {},
   "outputs": [
    {
     "data": {
      "text/plain": [
       "((20, 784), (20, 1))"
      ]
     },
     "execution_count": 25,
     "metadata": {},
     "output_type": "execute_result"
    }
   ],
   "source": [
    "sample_batch['x'].shape, sample_batch['y'].shape"
   ]
  },
  {
   "cell_type": "code",
   "execution_count": null,
   "metadata": {},
   "outputs": [],
   "source": []
  },
  {
   "cell_type": "markdown",
   "metadata": {},
   "source": [
    "We have almost all of the building blocks in place to construct federated data sets.\n",
    "\n",
    "__One of the ways to feed federated data to TFF in a simulation is simply as a Python list, with each element of the list holding the data of an individual user, whether as a list or as a tf.data.Dataset__. Since we already have an interface that provides the latter (tf.data.Dataset), let's use it.\n",
    "\n",
    "Here's a simple helper function that will construct a list of datasets from the given set of users as an input to a round of training or evaluation."
   ]
  },
  {
   "cell_type": "code",
   "execution_count": 26,
   "metadata": {},
   "outputs": [],
   "source": [
    "def make_federated_data(client_data, client_ids):\n",
    "    return [\n",
    "        preprocess(client_data.create_tf_dataset_for_client(x)) for x in client_ids\n",
    "    ]\n"
   ]
  },
  {
   "cell_type": "code",
   "execution_count": null,
   "metadata": {},
   "outputs": [],
   "source": []
  },
  {
   "cell_type": "markdown",
   "metadata": {},
   "source": [
    "### How do we choose clients?\n",
    "\n",
    "In a typical federated training scenario, we are dealing with potentially a very large population of user devices from which only a fraction may be available for training at a given point in time. This is the case, for example, when the client devices are mobile phones that participate in training only when plugged into a power source, off a metered network (or using Wi-Fi), and otherwise idle.\n",
    "\n",
    "Of course, we are in a simulation environment, and all of the data is locally available. Typically then, __when running simulations, we would simply sample a random subset of the clients to be involved in each round of training, generally different in each round__.\n",
    "\n",
    "That said, as you can find out by studying the paper on the [Federated Averaging](https://arxiv.org/abs/1602.05629) algorithm, __achieving convergence in a system with randomly sampled subsets of clients in each round can take a while__, and it would be impractical to have to run hundreds of rounds in this interactive tutorial.\n",
    "\n",
    "_What we will do instead is sample the set of clients once, and reuse the same set across rounds to speed up convergence (intentionally over-fitting to these few user's data)_. We leave it as an exercise for the reader to modify this tutorial to simulate random sampling - it is fairly easy to do (once you do, keep in mind that getting the model to converge may take a while)."
   ]
  },
  {
   "cell_type": "code",
   "execution_count": 30,
   "metadata": {},
   "outputs": [],
   "source": [
    "sample_clients = emnist_train.client_ids[0 : NUM_CLIENTS]  # returns client-ids\n",
    "\n",
    "federated_train_data = make_federated_data(emnist_train, sample_clients)\n",
    "# 'federated_train_data' is a list"
   ]
  },
  {
   "cell_type": "code",
   "execution_count": 36,
   "metadata": {},
   "outputs": [
    {
     "name": "stdout",
     "output_type": "stream",
     "text": [
      "number of client datasets chosen = 10\n",
      "\n",
      "first dataset: <PrefetchDataset shapes: OrderedDict([(x, (None, 784)), (y, (None, 1))]), types: OrderedDict([(x, tf.float32), (y, tf.int32)])>\n"
     ]
    }
   ],
   "source": [
    "print(f\"number of client datasets chosen = {len(federated_train_data)}\")\n",
    "print(f\"\\nfirst dataset: {federated_train_data[0]}\")"
   ]
  },
  {
   "cell_type": "code",
   "execution_count": null,
   "metadata": {},
   "outputs": [],
   "source": []
  },
  {
   "cell_type": "code",
   "execution_count": null,
   "metadata": {},
   "outputs": [],
   "source": []
  },
  {
   "cell_type": "code",
   "execution_count": null,
   "metadata": {},
   "outputs": [],
   "source": []
  },
  {
   "cell_type": "code",
   "execution_count": null,
   "metadata": {},
   "outputs": [],
   "source": []
  },
  {
   "cell_type": "markdown",
   "metadata": {},
   "source": [
    "### Creating a model with Keras:\n",
    "\n",
    "Apart from this defined model below, you can also create a LeNet-300-100 dense neural networks for (hopefully) better results."
   ]
  },
  {
   "cell_type": "code",
   "execution_count": 40,
   "metadata": {},
   "outputs": [],
   "source": [
    "def create_keras_model():\n",
    "    return tf.keras.models.Sequential([\n",
    "        tf.keras.layers.Input(shape=(784,)),\n",
    "        tf.keras.layers.Dense(10, kernel_initializer='zeros'),\n",
    "        tf.keras.layers.Softmax(),\n",
    "    ])\n"
   ]
  },
  {
   "cell_type": "code",
   "execution_count": null,
   "metadata": {},
   "outputs": [],
   "source": []
  },
  {
   "cell_type": "code",
   "execution_count": 39,
   "metadata": {},
   "outputs": [],
   "source": [
    "def lenet300():\n",
    "    model = tf.keras.models.Sequential()\n",
    "    \n",
    "    model.add(\n",
    "        tf.keras.layers.Input(shape = (784, ))\n",
    "    )\n",
    "    \n",
    "    model.add(\n",
    "        tf.keras.layers.Dense(\n",
    "            units = 300, activation = tf.nn.relu,\n",
    "            kernel_initializer='glorot_normal',\n",
    "            bias_initializer = 'ones'\n",
    "        ) \n",
    "    )\n",
    "    \n",
    "    model.add(\n",
    "        tf.keras.layers.Dense(\n",
    "            units = 100, activation = tf.nn.relu,\n",
    "            kernel_initializer='glorot_normal',\n",
    "            bias_initializer = 'ones'\n",
    "        ) \n",
    "    )\n",
    "    \n",
    "    model.add(\n",
    "        tf.keras.layers.Softmax()\n",
    "    )\n",
    "    \n",
    "    return model\n"
   ]
  },
  {
   "cell_type": "code",
   "execution_count": null,
   "metadata": {},
   "outputs": [],
   "source": []
  },
  {
   "cell_type": "markdown",
   "metadata": {},
   "source": [
    "### Note: we do not compile the defined model yet. The loss, metrics, and optimizers are introduced later."
   ]
  },
  {
   "cell_type": "code",
   "execution_count": null,
   "metadata": {},
   "outputs": [],
   "source": []
  },
  {
   "cell_type": "markdown",
   "metadata": {},
   "source": [
    "### Creating a neural network model with _Keras_:\n",
    "\n",
    "In order to use any model with TFF, it needs to be wrapped in an instance of the [tff.learning.Model](https://www.tensorflow.org/federated/api_docs/python/tff/learning/Model) interface, which exposes methods to stamp the model's forward pass, metadata properties, etc., similar to Keras, but also introduces additional elements, such as ways to control the process of computing federated metrics.\n",
    "\n",
    "Let's not worry about this for now; if you have a Keras model like the one we've just defined above, you can have TFF wrap it for you by invoking [tff.learning.from_keras_model](https://www.tensorflow.org/federated/api_docs/python/tff/learning/from_keras_model), passing the model and a sample data batch as arguments, as shown below-"
   ]
  },
  {
   "cell_type": "code",
   "execution_count": 42,
   "metadata": {},
   "outputs": [],
   "source": [
    "def model_fn():\n",
    "    # We \"must\" create a new model here, and \"not\" capture it from an external\n",
    "    # scope. TFF will call this from within different graph contexts.\n",
    "    keras_model = create_keras_model()\n",
    "    # OR-\n",
    "    # keras_model = lenet300()\n",
    "    \n",
    "    return tff.learning.from_keras_model(\n",
    "        keras_model,\n",
    "        input_spec = preprocessed_example_dataset.element_spec,\n",
    "        loss = tf.keras.losses.SparseCategoricalCrossentropy(),\n",
    "        metrics = [tf.keras.metrics.SparseCategoricalAccuracy()\n",
    "                ]\n",
    "    )\n"
   ]
  },
  {
   "cell_type": "code",
   "execution_count": null,
   "metadata": {},
   "outputs": [],
   "source": []
  },
  {
   "cell_type": "code",
   "execution_count": null,
   "metadata": {},
   "outputs": [],
   "source": []
  },
  {
   "cell_type": "code",
   "execution_count": null,
   "metadata": {},
   "outputs": [],
   "source": []
  },
  {
   "cell_type": "code",
   "execution_count": null,
   "metadata": {},
   "outputs": [],
   "source": []
  },
  {
   "cell_type": "markdown",
   "metadata": {},
   "source": [
    "### Training the model on federated data:\n",
    "\n",
    "Now that we have a model wrapped as [tff.learning.Model](https://www.tensorflow.org/federated/api_docs/python/tff/learning/Model) for use with TFF, we can let TFF construct a Federated Averaging algorithm by invoking the helper function [tff.learning.build_federated_averaging_process](https://www.tensorflow.org/federated/api_docs/python/tff/learning/build_federated_averaging_process), as follows.\n",
    "\n",
    "Keep in mind that the argument needs to be a constructor (such as ```model_fn()``` above), not an already-constructed instance, so that the construction of your model can happen in a context controlled by TFF (if you're curious about the reasons for this, we encourage you to read the follow-up tutorial on [custom algorithms](https://www.tensorflow.org/federated/tutorials/custom_federated_algorithms_1)).\n",
    "\n",
    "__NOTE:__ For Federated Averaging algorithm shown below, there are two optimizers:\n",
    "\n",
    "- a _client optimizer_ which is used only to compute local model updates for each client\n",
    "\n",
    "- a _server optimizer_ which applies the averaged update to the global model present at the server\n",
    "\n",
    "\n",
    "In particular, this means that __the choice of optimizer and learning rate used may need to be different than the ones you have used to train the model on a standard i.i.d. dataset__. _We recommend starting with regular SGD, possibly with a smaller learning rate than usual_. The learning rate used here has not been carefully tuned and may be further experimented with."
   ]
  },
  {
   "cell_type": "code",
   "execution_count": 44,
   "metadata": {},
   "outputs": [],
   "source": [
    "iterative_process = tff.learning.build_federated_averaging_process(\n",
    "    model_fn = model_fn,\n",
    "    client_optimizer_fn = lambda: tf.keras.optimizers.SGD(learning_rate = 0.02),\n",
    "    server_optimizer_fn = lambda: tf.keras.optimizers.SGD(learning_rate = 1.0)\n",
    ")"
   ]
  },
  {
   "cell_type": "code",
   "execution_count": null,
   "metadata": {},
   "outputs": [],
   "source": [
    "'''\n",
    "opt = lambda: tf.keras.optimizers.SGD(learning_rate = 0.01)\n",
    "print(f\"optimizer: {opt()}\")\n",
    "# optimizer: <tensorflow.python.keras.optimizer_v2.gradient_descent.SGD object at 0x7fdcbce7b3a0>\n",
    "'''"
   ]
  },
  {
   "cell_type": "markdown",
   "metadata": {},
   "source": [
    "TFF has constructed a pair of _federated computations_ and packaged them into a [tff.templates.IterativeProcess](https://www.tensorflow.org/federated/api_docs/python/tff/templates/IterativeProcess) in which these computations are available as a pair of properties ```initialize``` and ```next```.\n",
    "\n",
    "In a nutshell, _federated computations_ are programs in TFF's internal language that can express various federated algorithms (you can find more about this in the [custom algorithms](https://www.tensorflow.org/federated/tutorials/custom_federated_algorithms_1) tutorial). In this case, the two computations generated and packed into ```iterative_process``` implement [Federated Averaging](https://arxiv.org/abs/1602.05629).\n",
    "\n",
    "__It is a goal of TFF to define computations in a way so that they could be executed in real federated learning settings, but currently only local execution simulation runtime is implemented__. _To execute a computation in a simulator, you simply invoke it like a Python function. This default interpreted environment is not designed for high performance, but it will suffice for this tutorial; we expect to provide higher-performance simulation runtimes to facilitate larger-scale research in future releases_.\n",
    "\n",
    "Let's start with the ```initialize``` computation. As is the case for all federated computations, __you can think of it ```initialize``` as a function. The computation takes no arguments, and returns one result - the representation of the state of the Federated Averaging process on the server__. While we don't want to dive into the details of TFF, it may be instructive to see what this state looks like. You can visualize it as follows-"
   ]
  },
  {
   "cell_type": "code",
   "execution_count": 51,
   "metadata": {},
   "outputs": [
    {
     "data": {
      "text/plain": [
       "'( -> <model=<trainable=<float32[784,10],float32[10]>,non_trainable=<>>,optimizer_state=<int64>,delta_aggregate_state=<value_sum_process=<>,weight_sum_process=<>>,model_broadcast_state=<>>@SERVER)'"
      ]
     },
     "execution_count": 51,
     "metadata": {},
     "output_type": "execute_result"
    }
   ],
   "source": [
    "str(iterative_process.initialize.type_signature)"
   ]
  },
  {
   "cell_type": "markdown",
   "metadata": {},
   "source": [
    "While the above type signature may at first seem a bit cryptic, you can recognize that the server state consists of a ```model``` (the initial model parameters for MNIST that will be distributed to all devices), and ```optimizer_state``` (additional information maintained by the server, such as the number of rounds to use for hyperparameter schedules, etc.)."
   ]
  },
  {
   "cell_type": "code",
   "execution_count": 52,
   "metadata": {},
   "outputs": [],
   "source": [
    "# Let's invoke the 'initialize' computation to construct the server state-\n",
    "state = iterative_process.initialize()"
   ]
  },
  {
   "cell_type": "markdown",
   "metadata": {},
   "source": [
    "The second of the pair of federated computations, ```next```, represents a single round of Federated Averaging, which consists of pushing the server state (including the model parameters) to the clients, on-device training on their local data, collecting and averaging model updates, and producing a new updated model at the server.\n",
    "\n",
    "Conceptually, you can think of ```next``` as having a functional type signature that looks as follows-\n",
    "\n",
    "SERVER_STATE, FEDERATED_DATA -> SERVER_STATE, TRAINING_METRICS\n",
    "\n",
    "In particular, one should think about ```next()``` not as being a function that runs on a server, but rather being a declarative functional representation of the entire decentralized computation - some of the inputs are provided by the server (```SERVER_STATE```), but each participating device contributes its own local dataset.\n",
    "\n",
    "Let's run a single round of training and visualize the results. We can use the federated data we've already generated above for a sample of users."
   ]
  },
  {
   "cell_type": "code",
   "execution_count": 53,
   "metadata": {},
   "outputs": [
    {
     "name": "stdout",
     "output_type": "stream",
     "text": [
      "round: 1, metrics = OrderedDict([('broadcast', ()), ('aggregation', OrderedDict([('mean_value', ()), ('mean_weight', ())])), ('train', OrderedDict([('sparse_categorical_accuracy', 0.12592593), ('loss', 3.0727448)])), ('stat', OrderedDict([('num_examples', 4860)]))])\n"
     ]
    }
   ],
   "source": [
    "state, metrics = iterative_process.next(state, federated_train_data)\n",
    "print(f\"round: 1, metrics = {metrics}\")"
   ]
  },
  {
   "cell_type": "code",
   "execution_count": 62,
   "metadata": {},
   "outputs": [
    {
     "name": "stdout",
     "output_type": "stream",
     "text": [
      "OrderedDict([('mean_value', ()), ('mean_weight', ())])\n",
      "OrderedDict([('sparse_categorical_accuracy', 0.12592593), ('loss', 3.0727448)])\n",
      "OrderedDict([('num_examples', 4860)])\n"
     ]
    }
   ],
   "source": [
    "# 'metrics' is a nested 'OrderedDict'. Only print for keys having an object inside-\n",
    "for metric_key in metrics.keys():\n",
    "    # print(metric_key)\n",
    "    if metrics[metric_key]:\n",
    "        print(metrics[metric_key])"
   ]
  },
  {
   "cell_type": "code",
   "execution_count": null,
   "metadata": {},
   "outputs": [],
   "source": []
  },
  {
   "cell_type": "markdown",
   "metadata": {},
   "source": [
    "Let's run a few more rounds. As noted earlier, __typically at this point you would pick a subset of your simulation data from a new randomly selected sample of users for each round in order to simulate a realistic deployment in which users continuously come and go__, but in this interactive notebook, for the sake of demonstration we'll just reuse the same users, so that the system converges quickly."
   ]
  },
  {
   "cell_type": "code",
   "execution_count": 63,
   "metadata": {},
   "outputs": [
    {
     "name": "stdout",
     "output_type": "stream",
     "text": [
      "round = 2, metrics = OrderedDict([('broadcast', ()), ('aggregation', OrderedDict([('mean_value', ()), ('mean_weight', ())])), ('train', OrderedDict([('sparse_categorical_accuracy', 0.13518518), ('loss', 2.9155476)])), ('stat', OrderedDict([('num_examples', 4860)]))])\n",
      "round = 3, metrics = OrderedDict([('broadcast', ()), ('aggregation', OrderedDict([('mean_value', ()), ('mean_weight', ())])), ('train', OrderedDict([('sparse_categorical_accuracy', 0.14773662), ('loss', 2.7923265)])), ('stat', OrderedDict([('num_examples', 4860)]))])\n",
      "round = 4, metrics = OrderedDict([('broadcast', ()), ('aggregation', OrderedDict([('mean_value', ()), ('mean_weight', ())])), ('train', OrderedDict([('sparse_categorical_accuracy', 0.18209876), ('loss', 2.6560438)])), ('stat', OrderedDict([('num_examples', 4860)]))])\n",
      "round = 5, metrics = OrderedDict([('broadcast', ()), ('aggregation', OrderedDict([('mean_value', ()), ('mean_weight', ())])), ('train', OrderedDict([('sparse_categorical_accuracy', 0.20699589), ('loss', 2.5356374)])), ('stat', OrderedDict([('num_examples', 4860)]))])\n",
      "round = 6, metrics = OrderedDict([('broadcast', ()), ('aggregation', OrderedDict([('mean_value', ()), ('mean_weight', ())])), ('train', OrderedDict([('sparse_categorical_accuracy', 0.236214), ('loss', 2.395606)])), ('stat', OrderedDict([('num_examples', 4860)]))])\n",
      "round = 7, metrics = OrderedDict([('broadcast', ()), ('aggregation', OrderedDict([('mean_value', ()), ('mean_weight', ())])), ('train', OrderedDict([('sparse_categorical_accuracy', 0.25823045), ('loss', 2.317386)])), ('stat', OrderedDict([('num_examples', 4860)]))])\n",
      "round = 8, metrics = OrderedDict([('broadcast', ()), ('aggregation', OrderedDict([('mean_value', ()), ('mean_weight', ())])), ('train', OrderedDict([('sparse_categorical_accuracy', 0.2600823), ('loss', 2.2954583)])), ('stat', OrderedDict([('num_examples', 4860)]))])\n",
      "round = 9, metrics = OrderedDict([('broadcast', ()), ('aggregation', OrderedDict([('mean_value', ()), ('mean_weight', ())])), ('train', OrderedDict([('sparse_categorical_accuracy', 0.28950617), ('loss', 2.173816)])), ('stat', OrderedDict([('num_examples', 4860)]))])\n",
      "round = 10, metrics = OrderedDict([('broadcast', ()), ('aggregation', OrderedDict([('mean_value', ()), ('mean_weight', ())])), ('train', OrderedDict([('sparse_categorical_accuracy', 0.34794238), ('loss', 1.9790206)])), ('stat', OrderedDict([('num_examples', 4860)]))])\n"
     ]
    }
   ],
   "source": [
    "NUM_ROUNDS = 11\n",
    "\n",
    "for round_num in range(2, NUM_ROUNDS):\n",
    "    state, metrics = iterative_process.next(state, federated_train_data)\n",
    "    print(f\"round = {round_num}, metrics = {metrics}\")"
   ]
  },
  {
   "cell_type": "markdown",
   "metadata": {},
   "source": [
    "Training loss is decreasing after each round of federated training, indicating the model is converging. There are some important caveats with these training metrics, however, see the section on _Evaluation_ later in this tutorial."
   ]
  },
  {
   "cell_type": "code",
   "execution_count": null,
   "metadata": {},
   "outputs": [],
   "source": []
  },
  {
   "cell_type": "code",
   "execution_count": null,
   "metadata": {},
   "outputs": [],
   "source": []
  },
  {
   "cell_type": "code",
   "execution_count": null,
   "metadata": {},
   "outputs": [],
   "source": []
  },
  {
   "cell_type": "code",
   "execution_count": null,
   "metadata": {},
   "outputs": [],
   "source": []
  },
  {
   "cell_type": "markdown",
   "metadata": {},
   "source": [
    "### Displaying model metrics in TensorBoard:\n",
    "\n",
    "Next, let's visualize the metrics from these federated computations using Tensorboard."
   ]
  },
  {
   "cell_type": "code",
   "execution_count": null,
   "metadata": {},
   "outputs": [],
   "source": [
    "# Uncomment and run this this cell to clean your directory of old output for\n",
    "# future graphs from this directory. We don't run it by default so that if \n",
    "# you do a \"Runtime > Run all\" you don't lose your results.\n",
    "\n",
    "# !rm -R /tmp/logs/scalars/*"
   ]
  },
  {
   "cell_type": "code",
   "execution_count": 64,
   "metadata": {},
   "outputs": [],
   "source": [
    "# start by creating the directory and the corresponding summary writer to write the metrics to-\n",
    "logdir = \"/home/arjun/Deep_Learning_Resources/Federated_Learning-Resources/Jupyter-Notebooks_and_Codes/scalars/training/\"\n",
    "summary_writer = tf.summary.create_file_writer(logdir)\n",
    "\n",
    "state = iterative_process.initialize()\n",
    "\n",
    "# In order to view evaluation metrics the same way, you can create a separate eval folder, like \"*/scalars/eval\", to write to TensorBoard."
   ]
  },
  {
   "cell_type": "code",
   "execution_count": 65,
   "metadata": {},
   "outputs": [],
   "source": [
    "# Plot the relevant scalar metrics with the same summary writer-\n",
    "with summary_writer.as_default():\n",
    "    for round_num in range(1, NUM_ROUNDS):\n",
    "        state, metrics = iterative_process.next(state, federated_train_data)\n",
    "        for name, value in metrics['train'].items():\n",
    "            tf.summary.scalar(name, value, step = round_num)\n"
   ]
  },
  {
   "cell_type": "code",
   "execution_count": null,
   "metadata": {},
   "outputs": [],
   "source": []
  },
  {
   "cell_type": "code",
   "execution_count": 67,
   "metadata": {},
   "outputs": [
    {
     "name": "stdout",
     "output_type": "stream",
     "text": [
      "events.out.tfevents.1618916379.Markovian.3253.13764.v2\n"
     ]
    },
    {
     "data": {
      "text/html": [
       "\n",
       "      <iframe id=\"tensorboard-frame-81bc11f96035ea35\" width=\"100%\" height=\"800\" frameborder=\"0\">\n",
       "      </iframe>\n",
       "      <script>\n",
       "        (function() {\n",
       "          const frame = document.getElementById(\"tensorboard-frame-81bc11f96035ea35\");\n",
       "          const url = new URL(\"/\", window.location);\n",
       "          const port = 44343;\n",
       "          if (port) {\n",
       "            url.port = port;\n",
       "          }\n",
       "          frame.src = url;\n",
       "        })();\n",
       "      </script>\n",
       "    "
      ],
      "text/plain": [
       "<IPython.core.display.HTML object>"
      ]
     },
     "metadata": {},
     "output_type": "display_data"
    }
   ],
   "source": [
    "# Start TensorBoard with the directory specified above. It can take a few seconds for the data to load-\n",
    "!ls {logdir}\n",
    "%tensorboard --logdir {logdir} --port=0"
   ]
  },
  {
   "cell_type": "code",
   "execution_count": null,
   "metadata": {},
   "outputs": [],
   "source": []
  },
  {
   "cell_type": "code",
   "execution_count": null,
   "metadata": {},
   "outputs": [],
   "source": []
  },
  {
   "cell_type": "code",
   "execution_count": null,
   "metadata": {},
   "outputs": [],
   "source": []
  },
  {
   "cell_type": "markdown",
   "metadata": {},
   "source": [
    "### Customizing the model implementation:\n",
    "\n",
    "Keras is the [recommended high-level model API for TensorFlow](https://medium.com/tensorflow/standardizing-on-keras-guidance-on-high-level-apis-in-tensorflow-2-0-bad2b04c819a), and we encourage using Keras models (via [tff.learning.from_keras_model](https://www.tensorflow.org/federated/api_docs/python/tff/learning/from_keras_model)) in TFF whenever possible.\n",
    "\n",
    "However, [tff.learning](https://www.tensorflow.org/federated/api_docs/python/tff/learning) provides a lower-level model interface, [tff.learning.Model](https://www.tensorflow.org/federated/api_docs/python/tff/learning/Model), that exposes the minimal functionality necessary for using a model for federated learning. Directly implementing this interface (possibly still using building blocks like [tf.keras.layers](https://www.tensorflow.org/api_docs/python/tf/keras/layers)) allows for maximum customization without modifying the internals of the federated learning algorithms.\n",
    "\n",
    "So let's do it all over again from scratch.\n",
    "\n",
    "\n",
    "### Defining model variables, forward pass, and metrics:\n",
    "\n",
    "The first step is to identify the TensorFlow variables we're going to work with. In order to make the following code more legible, let's define a data structure to represent the entire set. This will include variables such as``` weights``` and ```bias``` that we will train, as well as variables that will hold various cumulative statistics and counters we will update during training, such as ```loss_sum```, ```accuracy_sum```, and ```num_examples```."
   ]
  },
  {
   "cell_type": "code",
   "execution_count": 68,
   "metadata": {},
   "outputs": [],
   "source": [
    "MnistVariables = collections.namedtuple('MnistVariables', 'weights bias num_examples loss_sum accuracy_sum')"
   ]
  },
  {
   "cell_type": "markdown",
   "metadata": {},
   "source": [
    "Here's a method that creates the variables. For the sake of simplicity, we represent all statistics as tf.float32, as that will eliminate the need for type conversions at a later stage. Wrapping variable initializers as lambdas is a requirement imposed by [resource variables](https://www.tensorflow.org/api_docs/python/tf/enable_resource_variables)."
   ]
  },
  {
   "cell_type": "code",
   "execution_count": 75,
   "metadata": {},
   "outputs": [],
   "source": [
    "def create_mnist_variables():\n",
    "    return MnistVariables(\n",
    "        weights=tf.Variable(\n",
    "            lambda: tf.zeros(dtype = tf.float32, shape = (784, 10)),\n",
    "            name = 'weights', trainable = True),\n",
    "        \n",
    "        bias=tf.Variable(\n",
    "            lambda: tf.ones(dtype = tf.float32, shape = (10)),\n",
    "            name= 'bias', trainable = True),\n",
    "        \n",
    "        num_examples=tf.Variable(0.0, name = 'num_examples', trainable = False),\n",
    "        loss_sum = tf.Variable(0.0, name = 'loss_sum', trainable = False),\n",
    "        accuracy_sum = tf.Variable(0.0, name = 'accuracy_sum', trainable = False))\n"
   ]
  },
  {
   "cell_type": "markdown",
   "metadata": {},
   "source": [
    "With the variables for model parameters and cumulative statistics in place, we can now define the forward pass method that computes loss, makes predictions, and updates the cumulative statistics for a single batch of input data, as follows-"
   ]
  },
  {
   "cell_type": "code",
   "execution_count": 76,
   "metadata": {},
   "outputs": [],
   "source": [
    "def mnist_forward_pass(variables, batch):\n",
    "    y = tf.nn.softmax(tf.matmul(batch['x'], variables.weights) + variables.bias)\n",
    "    predictions = tf.cast(tf.argmax(y, 1), tf.int32)\n",
    "\n",
    "    flat_labels = tf.reshape(batch['y'], [-1])\n",
    "    \n",
    "    loss = -tf.reduce_mean(tf.reduce_sum(tf.one_hot(flat_labels, 10) * tf.math.log(y), axis=[1]))\n",
    "    \n",
    "    accuracy = tf.reduce_mean(tf.cast(tf.equal(predictions, flat_labels), tf.float32))\n",
    "\n",
    "    num_examples = tf.cast(tf.size(batch['y']), tf.float32)\n",
    "\n",
    "    variables.num_examples.assign_add(num_examples)\n",
    "    variables.loss_sum.assign_add(loss * num_examples)\n",
    "    variables.accuracy_sum.assign_add(accuracy * num_examples)\n",
    "\n",
    "    return loss, predictions\n"
   ]
  },
  {
   "cell_type": "code",
   "execution_count": null,
   "metadata": {},
   "outputs": [],
   "source": []
  },
  {
   "cell_type": "markdown",
   "metadata": {},
   "source": [
    "Next, we define a function that returns a set of local metrics, again using TensorFlow. These are the values (in addition to model updates, which are handled automatically) that are eligible to be aggregated to the server in a federated learning or evaluation process.\n",
    "\n",
    "Here, we simply return the average ```loss``` and ```accuracy```, as well as the ```num_examples```, which we'll need to correctly weight the contributions from different users when computing federated aggregates."
   ]
  },
  {
   "cell_type": "code",
   "execution_count": 77,
   "metadata": {},
   "outputs": [],
   "source": [
    "def get_local_mnist_metrics(variables):\n",
    "    return collections.OrderedDict(\n",
    "        num_examples = variables.num_examples,\n",
    "        loss = variables.loss_sum / variables.num_examples,\n",
    "        accuracy = variables.accuracy_sum / variables.num_examples)\n"
   ]
  },
  {
   "cell_type": "markdown",
   "metadata": {},
   "source": [
    "Finally, we need to determine how to aggregate the local metrics emitted by each device via ```get_local_mnist_metrics```. This is the only part of the code that isn't written in TensorFlow - it's a _federated computation_ expressed in TFF. If you'd like to dig deeper, skim over the [custom algorithms](https://www.tensorflow.org/federated/tutorials/custom_federated_algorithms_1) tutorial, but in most applications, you won't really need to; variants of the pattern shown below should suffice. Here's what it looks like-"
   ]
  },
  {
   "cell_type": "code",
   "execution_count": 78,
   "metadata": {},
   "outputs": [],
   "source": [
    "@tff.federated_computation\n",
    "def aggregate_mnist_metrics_across_clients(metrics):\n",
    "    return collections.OrderedDict(\n",
    "        num_examples = tff.federated_sum(metrics.num_examples),\n",
    "        loss = tff.federated_mean(metrics.loss, metrics.num_examples),\n",
    "        accuracy = tff.federated_mean(metrics.accuracy, metrics.num_examples)\n",
    "    )\n"
   ]
  },
  {
   "cell_type": "markdown",
   "metadata": {},
   "source": [
    "The input ```metrics``` argument corresponds to the ```OrderedDict``` returned by ```get_local_mnist_metrics``` above, but critically the values are no longer ```tf.Tensors``` - they are \"boxed\" as [tff.Value](https://www.tensorflow.org/federated/api_docs/python/tff/Value)s, to make it clear you can no longer manipulate them using TensorFlow, but only using TFF's federated operators like [tff.federated_mean](https://www.tensorflow.org/federated/api_docs/python/tff/federated_mean) and [tff.federated_sum](https://www.tensorflow.org/federated/api_docs/python/tff/federated_sum). The returned dictionary of global aggregates defines the set of metrics which will be available on the server."
   ]
  },
  {
   "cell_type": "code",
   "execution_count": null,
   "metadata": {},
   "outputs": [],
   "source": []
  },
  {
   "cell_type": "code",
   "execution_count": null,
   "metadata": {},
   "outputs": [],
   "source": []
  },
  {
   "cell_type": "markdown",
   "metadata": {},
   "source": [
    "### Constructing an instance of [tff.learning.Model](https://www.tensorflow.org/federated/api_docs/python/tff/learning/Model)\n",
    "\n",
    "With all of the above in place, we are ready to construct a model representation for use with TFF similar to one that's generated for you when you let TFF ingest a Keras model."
   ]
  },
  {
   "cell_type": "code",
   "execution_count": 79,
   "metadata": {},
   "outputs": [],
   "source": [
    "class MnistModel(tff.learning.Model):\n",
    "\n",
    "    def __init__(self):\n",
    "        self._variables = create_mnist_variables()\n",
    "\n",
    "    @property\n",
    "    def trainable_variables(self):\n",
    "        return [self._variables.weights, self._variables.bias]\n",
    "\n",
    "    @property\n",
    "    def non_trainable_variables(self):\n",
    "        return []\n",
    "\n",
    "    @property\n",
    "    def local_variables(self):\n",
    "        return [\n",
    "            self._variables.num_examples, self._variables.loss_sum,\n",
    "            self._variables.accuracy_sum\n",
    "        ]\n",
    "\n",
    "    @property\n",
    "    def input_spec(self):\n",
    "        return collections.OrderedDict(\n",
    "            x = tf.TensorSpec([None, 784], tf.float32),\n",
    "            y = tf.TensorSpec([None, 1], tf.int32))\n",
    "\n",
    "    @tf.function\n",
    "    def forward_pass(self, batch, training=True):\n",
    "        del training\n",
    "        loss, predictions = mnist_forward_pass(self._variables, batch)\n",
    "        num_exmaples = tf.shape(batch['x'])[0]\n",
    "        return tff.learning.BatchOutput(\n",
    "            loss = loss, predictions = predictions, num_examples = num_exmaples\n",
    "        )\n",
    "\n",
    "    @tf.function\n",
    "    def report_local_outputs(self):\n",
    "        return get_local_mnist_metrics(self._variables)\n",
    "\n",
    "    @property\n",
    "    def federated_output_computation(self):\n",
    "        return aggregate_mnist_metrics_across_clients\n",
    "    "
   ]
  },
  {
   "cell_type": "code",
   "execution_count": null,
   "metadata": {},
   "outputs": [],
   "source": []
  },
  {
   "cell_type": "markdown",
   "metadata": {},
   "source": [
    "As you can see, the abstract methods and properties defined by [tff.learning.Model](https://www.tensorflow.org/federated/api_docs/python/tff/learning/Model) corresponds to the code snippets in the preceding section that introduced the variables and defined the loss and statistics.\n",
    "\n",
    "Here are a few points worth highlighting:\n",
    "\n",
    "- All state that your model will use must be captured as TensorFlow variables, as TFF does not use Python at runtime (remember your code should be written such that it can be deployed to mobile devices; see the [custom algorithms](https://www.tensorflow.org/federated/tutorials/custom_federated_algorithms_1) tutorial for a more in-depth commentary on the reasons).\n",
    "\n",
    "- Your model should describe what form of data it accepts (```input_spec```), as in general, TFF is a strongly-typed environment and wants to determine type signatures for all components. Declaring the format of your model's input is an essential part of it.\n",
    "\n",
    "- Although technically not required, we recommend wrapping all TensorFlow logic (forward pass, metric calculations, etc.) as [tf.function](https://www.tensorflow.org/api_docs/python/tf/function)s, as this helps ensure the TensorFlow can be serialized, and removes the need for explicit control dependencies.\n",
    "\n",
    "The above is sufficient for evaluation and algorithms like Federated SGD. However, for Federated Averaging, we need to specify how the model should train locally on each batch. We will specify a local optimizer when building the Federated Averaging algorithm."
   ]
  },
  {
   "cell_type": "markdown",
   "metadata": {},
   "source": [
    "### Simulating federated training with the new model:\n",
    "\n",
    "With all of the above in place, the remainder of the process looks like what we've seen already - just replace the model constructor with the constructor of our new model class, and use the two federated computations in the iterative process you created to cycle through training rounds."
   ]
  },
  {
   "cell_type": "code",
   "execution_count": 80,
   "metadata": {},
   "outputs": [],
   "source": [
    "iterative_process = tff.learning.build_federated_averaging_process(\n",
    "    model_fn = MnistModel,\n",
    "    client_optimizer_fn = lambda: tf.keras.optimizers.SGD(learning_rate = 0.02))"
   ]
  },
  {
   "cell_type": "code",
   "execution_count": 81,
   "metadata": {},
   "outputs": [
    {
     "name": "stdout",
     "output_type": "stream",
     "text": [
      "round: 1, metrics = OrderedDict([('broadcast', ()), ('aggregation', OrderedDict([('mean_value', ()), ('mean_weight', ())])), ('train', OrderedDict([('num_examples', 4860.0), ('loss', 3.0716066), ('accuracy', 0.123662554)])), ('stat', OrderedDict([('num_examples', 4860)]))])\n"
     ]
    }
   ],
   "source": [
    "state = iterative_process.initialize()\n",
    "\n",
    "state, metrics = iterative_process.next(state, federated_train_data)\n",
    "print(f\"round: 1, metrics = {metrics}\")"
   ]
  },
  {
   "cell_type": "code",
   "execution_count": 84,
   "metadata": {},
   "outputs": [
    {
     "name": "stdout",
     "output_type": "stream",
     "text": [
      "round  2, metrics = OrderedDict([('broadcast', ()), ('aggregation', OrderedDict([('mean_value', ()), ('mean_weight', ())])), ('train', OrderedDict([('num_examples', 4860.0), ('loss', 2.9102974), ('accuracy', 0.1479424)])), ('stat', OrderedDict([('num_examples', 4860)]))])\n",
      "round  3, metrics = OrderedDict([('broadcast', ()), ('aggregation', OrderedDict([('mean_value', ()), ('mean_weight', ())])), ('train', OrderedDict([('num_examples', 4860.0), ('loss', 2.753225), ('accuracy', 0.17345679)])), ('stat', OrderedDict([('num_examples', 4860)]))])\n",
      "round  4, metrics = OrderedDict([('broadcast', ()), ('aggregation', OrderedDict([('mean_value', ()), ('mean_weight', ())])), ('train', OrderedDict([('num_examples', 4860.0), ('loss', 2.6044235), ('accuracy', 0.19115226)])), ('stat', OrderedDict([('num_examples', 4860)]))])\n",
      "round  5, metrics = OrderedDict([('broadcast', ()), ('aggregation', OrderedDict([('mean_value', ()), ('mean_weight', ())])), ('train', OrderedDict([('num_examples', 4860.0), ('loss', 2.4775639), ('accuracy', 0.21872428)])), ('stat', OrderedDict([('num_examples', 4860)]))])\n",
      "round  6, metrics = OrderedDict([('broadcast', ()), ('aggregation', OrderedDict([('mean_value', ()), ('mean_weight', ())])), ('train', OrderedDict([('num_examples', 4860.0), ('loss', 2.381665), ('accuracy', 0.25082305)])), ('stat', OrderedDict([('num_examples', 4860)]))])\n",
      "round  7, metrics = OrderedDict([('broadcast', ()), ('aggregation', OrderedDict([('mean_value', ()), ('mean_weight', ())])), ('train', OrderedDict([('num_examples', 4860.0), ('loss', 2.2523787), ('accuracy', 0.28209877)])), ('stat', OrderedDict([('num_examples', 4860)]))])\n",
      "round  8, metrics = OrderedDict([('broadcast', ()), ('aggregation', OrderedDict([('mean_value', ()), ('mean_weight', ())])), ('train', OrderedDict([('num_examples', 4860.0), ('loss', 2.0470572), ('accuracy', 0.3251029)])), ('stat', OrderedDict([('num_examples', 4860)]))])\n",
      "round  9, metrics = OrderedDict([('broadcast', ()), ('aggregation', OrderedDict([('mean_value', ()), ('mean_weight', ())])), ('train', OrderedDict([('num_examples', 4860.0), ('loss', 2.0737212), ('accuracy', 0.32222223)])), ('stat', OrderedDict([('num_examples', 4860)]))])\n",
      "round 10, metrics = OrderedDict([('broadcast', ()), ('aggregation', OrderedDict([('mean_value', ()), ('mean_weight', ())])), ('train', OrderedDict([('num_examples', 4860.0), ('loss', 2.0141017), ('accuracy', 0.33662552)])), ('stat', OrderedDict([('num_examples', 4860)]))])\n"
     ]
    }
   ],
   "source": [
    "for round_num in range(2, 11):\n",
    "    state, metrics = iterative_process.next(state, federated_train_data)\n",
    "    print(f\"round {round_num:2d}, metrics = {metrics}\")"
   ]
  },
  {
   "cell_type": "code",
   "execution_count": null,
   "metadata": {},
   "outputs": [],
   "source": []
  },
  {
   "cell_type": "code",
   "execution_count": null,
   "metadata": {},
   "outputs": [],
   "source": []
  },
  {
   "cell_type": "code",
   "execution_count": null,
   "metadata": {},
   "outputs": [],
   "source": []
  },
  {
   "cell_type": "code",
   "execution_count": null,
   "metadata": {},
   "outputs": [],
   "source": []
  },
  {
   "cell_type": "markdown",
   "metadata": {},
   "source": [
    "### Evaluation:\n",
    "\n",
    "All of our experiments so far presented only federated training metrics - the average metrics over all batches of data trained across all clients in the round. This introduces the normal concerns about overfitting, especially since we used the same set of clients on each round for simplicity, __but there is an additional notion of overfitting in training metrics specific to the Federated Averaging algorithm. This is easiest to see if we imagine each client had a single batch of data, and we train on that batch for many iterations (epochs). In this case, the local model will quickly exactly fit to that one batch, and so the local accuracy metric we average will approach 1.0. Thus, these training metrics can be taken as a sign that training is progressing, but not much more__.\n",
    "\n",
    "To perform evaluation on federated data, you can construct another _federated computation_ designed for just this purpose, using the [tff.learning.build_federated_evaluation](https://www.tensorflow.org/federated/api_docs/python/tff/learning/build_federated_evaluation) function, and passing in your model constructor as an argument. Note that unlike with Federated Averaging, where we've used ```MnistTrainableModel```, it suffices to pass the ```MnistModel```. Evaluation doesn't perform gradient descent, and there's no need to construct optimizers.\n",
    "\n",
    "For experimentation and research, when a centralized test dataset is available, [Federated Learning for Text Generation](https://www.tensorflow.org/federated/tutorials/federated_learning_for_text_generation) demonstrates another evaluation option: taking the trained weights from federated learning, applying them to a standard Keras model, and then simply calling [tf.keras.models.Model.evaluate()](https://www.tensorflow.org/api_docs/python/tf/keras/Model#evaluate) on a centralized dataset."
   ]
  },
  {
   "cell_type": "code",
   "execution_count": 85,
   "metadata": {},
   "outputs": [],
   "source": [
    "evaluation = tff.learning.build_federated_evaluation(MnistModel)"
   ]
  },
  {
   "cell_type": "code",
   "execution_count": 86,
   "metadata": {},
   "outputs": [
    {
     "data": {
      "text/plain": [
       "'(<server_model_weights=<trainable=<float32[784,10],float32[10]>,non_trainable=<>>@SERVER,federated_dataset={<x=float32[?,784],y=int32[?,1]>*}@CLIENTS> -> <num_examples=float32@SERVER,loss=float32@SERVER,accuracy=float32@SERVER>)'"
      ]
     },
     "execution_count": 86,
     "metadata": {},
     "output_type": "execute_result"
    }
   ],
   "source": [
    "# You can inspect the abstract type signature of the evaluation function as follows-\n",
    "str(evaluation.type_signature)"
   ]
  },
  {
   "cell_type": "markdown",
   "metadata": {},
   "source": [
    "No need to be concerned about the details at this point, just be aware that it takes the following general form, similar to [tff.templates.IterativeProcess.next](https://www.tensorflow.org/federated/api_docs/python/tff/templates/IterativeProcess#next) but with two important differences:\n",
    "\n",
    "- First, we are not returning server state, since evaluation doesn't modify the model or any other aspect of state - you can think of it as stateless. \n",
    "\n",
    "- Second, evaluation only needs the model, and doesn't require any other part of server state that might be associated with training, such as optimizer variables.\n",
    "\n",
    "SERVER_MODEL, FEDERATED_DATA -> TRAINING_METRICS\n",
    "\n",
    "Let's invoke evaluation on the latest state we arrived at during training. In order to extract the latest trained model from the server state, you simply access the ```.model``` member, as follows-"
   ]
  },
  {
   "cell_type": "code",
   "execution_count": 87,
   "metadata": {},
   "outputs": [],
   "source": [
    "train_metrics = evaluation(state.model, federated_train_data)"
   ]
  },
  {
   "cell_type": "markdown",
   "metadata": {},
   "source": [
    "Here's what we get. Note the numbers look marginally better than what was reported by the last round of training above. By convention, the training metrics reported by the iterative training process generally reflect the performance of the model at the beginning of the training round, so the evaluation metrics will always be one step ahead."
   ]
  },
  {
   "cell_type": "code",
   "execution_count": 88,
   "metadata": {},
   "outputs": [
    {
     "data": {
      "text/plain": [
       "\"OrderedDict([('num_examples', 4860.0), ('loss', 1.5173337), ('accuracy', 0.5946502)])\""
      ]
     },
     "execution_count": 88,
     "metadata": {},
     "output_type": "execute_result"
    }
   ],
   "source": [
    "# Evaluation metrics will always be one step ahead-\n",
    "str(train_metrics)"
   ]
  },
  {
   "cell_type": "code",
   "execution_count": 90,
   "metadata": {},
   "outputs": [
    {
     "data": {
      "text/plain": [
       "(10,\n",
       " <PrefetchDataset shapes: OrderedDict([(x, (None, 784)), (y, (None, 1))]), types: OrderedDict([(x, tf.float32), (y, tf.int32)])>)"
      ]
     },
     "execution_count": 90,
     "metadata": {},
     "output_type": "execute_result"
    }
   ],
   "source": [
    "# Now, let's compile a test sample of federated data and rerun evaluation on the test data. The data will come from the same sample of real\n",
    "# users, but from a distinct held-out data set-\n",
    "federated_test_data = make_federated_data(emnist_test, sample_clients)\n",
    "\n",
    "len(federated_test_data), federated_test_data[0]"
   ]
  },
  {
   "cell_type": "code",
   "execution_count": 91,
   "metadata": {},
   "outputs": [
    {
     "data": {
      "text/plain": [
       "\"OrderedDict([('num_examples', 580.0), ('loss', 1.6316314), ('accuracy', 0.5344828)])\""
      ]
     },
     "execution_count": 91,
     "metadata": {},
     "output_type": "execute_result"
    }
   ],
   "source": [
    "test_metrics = evaluation(state.model, federated_test_data)\n",
    "str(test_metrics)"
   ]
  },
  {
   "cell_type": "code",
   "execution_count": null,
   "metadata": {},
   "outputs": [],
   "source": []
  },
  {
   "cell_type": "markdown",
   "metadata": {},
   "source": [
    "This concludes the tutorial. We encourage you to play with the parameters like: batch size, number of users, epochs, learning rates, etc., to modify the code above to simulate training on random samples of users in each round, and to explore the other tutorials."
   ]
  },
  {
   "cell_type": "code",
   "execution_count": null,
   "metadata": {},
   "outputs": [],
   "source": []
  }
 ],
 "metadata": {
  "kernelspec": {
   "display_name": "Python 3",
   "language": "python",
   "name": "python3"
  },
  "language_info": {
   "codemirror_mode": {
    "name": "ipython",
    "version": 3
   },
   "file_extension": ".py",
   "mimetype": "text/x-python",
   "name": "python",
   "nbconvert_exporter": "python",
   "pygments_lexer": "ipython3",
   "version": "3.8.5"
  }
 },
 "nbformat": 4,
 "nbformat_minor": 4
}
